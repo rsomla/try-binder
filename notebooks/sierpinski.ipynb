{
 "cells": [
  {
   "cell_type": "code",
   "execution_count": 1,
   "id": "74dd68e0-31e5-4dcf-a99b-eb2d50029d7d",
   "metadata": {},
   "outputs": [],
   "source": [
    "import matplotlib.pyplot as plt\n",
    "import random"
   ]
  },
  {
   "cell_type": "code",
   "execution_count": 4,
   "id": "d42ad669-81fa-4199-bfe6-73c50199ea78",
   "metadata": {},
   "outputs": [],
   "source": [
    "def random_walk(vertexes, N):\n",
    "    \"Walk halfway from current point towards a random vertex; repeat for N points.\"\n",
    "    points = [random.choice(vertexes)]\n",
    "    for _ in range(N-1):\n",
    "        points.append(midpoint(points[-1], random.choice(vertexes)))\n",
    "    return points\n",
    "\n",
    "def show_walk(vertexes, N=5000):\n",
    "    \"Walk halfway towards a random vertex for N points; show reults.\"\n",
    "    Xs, Ys = transpose(random_walk(vertexes, N))\n",
    "    Xv, Yv = transpose(vertexes)\n",
    "    plt.plot(Xs, Ys, 'r.')\n",
    "    plt.plot(Xv, Yv, 'bs', clip_on=False)\n",
    "    plt.gca().set_aspect('equal')\n",
    "    plt.gcf().set_size_inches(9, 9)\n",
    "    plt.axis('off')\n",
    "    plt.show()\n",
    "    \n",
    "def midpoint(p, q): return ((p[0] + q[0])/2, (p[1] + q[1])/2)\n",
    "\n",
    "def transpose(matrix): return zip(*matrix)\n",
    "\n",
    "triangle = ((0, 0), (0.5, (3**0.5)/2), (1, 0))"
   ]
  },
  {
   "cell_type": "code",
   "execution_count": null,
   "id": "cfce994e-143a-4270-913c-783bc1bc46aa",
   "metadata": {},
   "outputs": [
    {
     "data": {
      "image/png": "[encoded data removed]",
      "text/plain": [
       "<Figure size 648x648 with 1 Axes>"
      ]
     },
     "metadata": {
      "needs_background": "light"
     },
     "output_type": "display_data"
    }
   ],
   "source": [
    "show_walk(triangle,100)"
   ]
  },
  {
   "cell_type": "code",
   "execution_count": null,
   "id": "f19911fc-5e8c-43ef-a9c0-cc1b8f433316",
   "metadata": {},
   "outputs": [],
   "source": []
  },
  {
   "cell_type": "code",
   "execution_count": null,
   "id": "b667a25a-da96-4399-b950-51ca4a486e67",
   "metadata": {},
   "outputs": [],
   "source": []
  }
 ],
 "metadata": {
  "kernelspec": {
   "display_name": "Python 3 (ipykernel)",
   "language": "python",
   "name": "python3"
  },
  "language_info": {
   "codemirror_mode": {
    "name": "ipython",
    "version": 3
   },
   "file_extension": ".py",
   "mimetype": "text/x-python",
   "name": "python",
   "nbconvert_exporter": "python",
   "pygments_lexer": "ipython3",
   "version": "3.7.10"
  }
 },
 "nbformat": 4,
 "nbformat_minor": 5
}
